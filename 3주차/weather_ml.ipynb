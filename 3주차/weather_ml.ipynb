{
  "nbformat": 4,
  "nbformat_minor": 0,
  "metadata": {
    "colab": {
      "provenance": []
    },
    "kernelspec": {
      "name": "python3",
      "display_name": "Python 3"
    },
    "language_info": {
      "name": "python"
    }
  },
  "cells": [
    {
      "cell_type": "code",
      "source": [
        "from google.colab import drive\n",
        "drive.mount('/content/drive')"
      ],
      "metadata": {
        "colab": {
          "base_uri": "https://localhost:8080/"
        },
        "id": "RSByCIVOJoMj",
        "outputId": "ca51e178-5dd4-4aec-e0ca-233cb1734033"
      },
      "execution_count": 2,
      "outputs": [
        {
          "output_type": "stream",
          "name": "stdout",
          "text": [
            "Mounted at /content/drive\n"
          ]
        }
      ]
    },
    {
      "cell_type": "code",
      "execution_count": 10,
      "metadata": {
        "id": "OSIj52q0bvK7"
      },
      "outputs": [],
      "source": [
        "import pandas as pd\n",
        "from sklearn.preprocessing import LabelEncoder\n",
        "from sklearn.model_selection import train_test_split\n",
        "from sklearn.tree import DecisionTreeClassifier\n",
        "from sklearn.ensemble import RandomForestClassifier\n",
        "from sklearn.linear_model import LogisticRegression\n",
        "from sklearn.metrics import accuracy_score"
      ]
    },
    {
      "cell_type": "code",
      "source": [
        "# 데이터 준비\n",
        "\n",
        "df = pd.read_csv(\"/content/drive/MyDrive/Colab Notebooks/기계학습프로그래밍/3주/weather.csv\").dropna()\n",
        "\n",
        "X = df.drop(columns=['RainTomorrow'])\n",
        "y = df['RainTomorrow']"
      ],
      "metadata": {
        "id": "3__P2hYXJnXs"
      },
      "execution_count": 11,
      "outputs": []
    },
    {
      "cell_type": "code",
      "source": [
        "# y 인코딩 (yes or no를 0, 1 형태로)\n",
        "\n",
        "y = LabelEncoder().fit_transform(y)\n",
        "\n",
        "# 전체 데이터 결측치 처리\n",
        "df = df.fillna(df.mode().iloc[0])  # 범주형 포함 통합 결측치 처리\n",
        "\n",
        "# 전체 데이터 원핫인코딩 (RainToday, WindDir 등 포함)\n",
        "cat_cols = X.select_dtypes(include='object').columns\n",
        "\n",
        "label_encoders = {}\n",
        "for col in cat_cols:\n",
        "    label_encoders[col] = LabelEncoder()\n",
        "    X[col] = label_encoders[col].fit_transform(X[col])"
      ],
      "metadata": {
        "id": "tzgu1qQvNSx8"
      },
      "execution_count": 12,
      "outputs": []
    },
    {
      "cell_type": "code",
      "source": [
        "# 데이터 분리\n",
        "\n",
        "X_train, X_test, y_train, y_test = train_test_split(\n",
        "    X, y, test_size=0.2, stratify=y, random_state=42\n",
        ")"
      ],
      "metadata": {
        "id": "Hs2-8gXxjMGq"
      },
      "execution_count": 13,
      "outputs": []
    },
    {
      "cell_type": "code",
      "source": [
        "# 모델 준비\n",
        "\n",
        "# 1. 결정 트리\n",
        "dt = DecisionTreeClassifier(random_state=42)\n",
        "dt.fit(X_train, y_train)\n",
        "dt_pred = dt.predict(X_test)\n",
        "\n",
        "# 2, 랜덤 포레스트\n",
        "rf = RandomForestClassifier(n_estimators=200, random_state=42)\n",
        "rf.fit(X_train, y_train)\n",
        "rf_pred = rf.predict(X_test)\n",
        "\n",
        "# 3. 로지스틱 회귀\n",
        "lr = LogisticRegression(max_iter=500)\n",
        "lr.fit(X_train, y_train)\n",
        "lr_pred = lr.predict(X_test)"
      ],
      "metadata": {
        "colab": {
          "base_uri": "https://localhost:8080/"
        },
        "id": "hSgK9wBnOAQK",
        "outputId": "ed2128a0-5530-4934-e5e3-95c94f2af9bc"
      },
      "execution_count": 14,
      "outputs": [
        {
          "output_type": "stream",
          "name": "stderr",
          "text": [
            "/usr/local/lib/python3.12/dist-packages/sklearn/linear_model/_logistic.py:465: ConvergenceWarning: lbfgs failed to converge (status=1):\n",
            "STOP: TOTAL NO. OF ITERATIONS REACHED LIMIT.\n",
            "\n",
            "Increase the number of iterations (max_iter) or scale the data as shown in:\n",
            "    https://scikit-learn.org/stable/modules/preprocessing.html\n",
            "Please also refer to the documentation for alternative solver options:\n",
            "    https://scikit-learn.org/stable/modules/linear_model.html#logistic-regression\n",
            "  n_iter_i = _check_optimize_result(\n"
          ]
        }
      ]
    },
    {
      "cell_type": "code",
      "source": [
        "# 모델 평가\n",
        "\n",
        "from sklearn.metrics import accuracy_score\n",
        "\n",
        "print(\"Decision Tree:\", accuracy_score(y_test, dt_pred))\n",
        "print(\"Random Forest:\", accuracy_score(y_test, rf_pred))\n",
        "print(\"Logistic Regression:\", accuracy_score(y_test, lr_pred))\n",
        "\n",
        "dt_acc = accuracy_score(y_test, dt_pred)\n",
        "rf_acc = accuracy_score(y_test, rf_pred )\n",
        "lr_acc = accuracy_score(y_test, lr_pred)"
      ],
      "metadata": {
        "colab": {
          "base_uri": "https://localhost:8080/"
        },
        "id": "4rAx2ldAPTDn",
        "outputId": "7ed9d949-7631-48c8-f407-219de46853f9"
      },
      "execution_count": 15,
      "outputs": [
        {
          "output_type": "stream",
          "name": "stdout",
          "text": [
            "Decision Tree: 1.0\n",
            "Random Forest: 1.0\n",
            "Logistic Regression: 0.9545454545454546\n"
          ]
        }
      ]
    },
    {
      "cell_type": "markdown",
      "source": [
        "# weather.csv 회귀 내용 추가\n"
      ],
      "metadata": {
        "id": "DRp_tDoZQ0WS"
      }
    },
    {
      "cell_type": "code",
      "source": [
        "import pandas as pd\n",
        "from sklearn.preprocessing import LabelEncoder, StandardScaler\n",
        "from sklearn.model_selection import train_test_split\n",
        "from sklearn.linear_model import LinearRegression\n",
        "from sklearn.metrics import mean_squared_error, r2_score"
      ],
      "metadata": {
        "id": "1mREb76ERC5h"
      },
      "execution_count": 19,
      "outputs": []
    },
    {
      "cell_type": "code",
      "source": [
        "# 데이터 준비\n",
        "\n",
        "df = pd.read_csv(\"/content/drive/MyDrive/Colab Notebooks/기계학습프로그래밍/3주/weather.csv\").dropna()\n",
        "\n",
        "# raintomorrow 삭제 후 rainfall 회귀로 예측\n",
        "X = df.drop(columns=[\"Rainfall\",\"RainTomorrow\"])\n",
        "y = df[\"Rainfall\"]"
      ],
      "metadata": {
        "id": "mseIs1rzPs0L"
      },
      "execution_count": 20,
      "outputs": []
    },
    {
      "cell_type": "code",
      "source": [
        "# 전체 데이터 결측치 처리\n",
        "df = df.fillna(df.mode().iloc[0])  # 범주형 포함 통합 결측치 처리\n",
        "\n",
        "# 전체 데이터 원핫인코딩 (RainToday, WindDir 등 포함)\n",
        "cat_cols = X.select_dtypes(include='object').columns\n",
        "\n",
        "label_encoders = {}\n",
        "for col in cat_cols:\n",
        "    label_encoders[col] = LabelEncoder()\n",
        "    X[col] = label_encoders[col].fit_transform(X[col])\n",
        "\n",
        "# 수치형 스케일링 (선형회귀 권장)\n",
        "scaler = StandardScaler()\n",
        "X_scaled = scaler.fit_transform(X)"
      ],
      "metadata": {
        "id": "PBh9_P0QQBH9"
      },
      "execution_count": 21,
      "outputs": []
    },
    {
      "cell_type": "code",
      "source": [
        "# 데이터 분리\n",
        "\n",
        "X_train, X_test, y_train, y_test = train_test_split(\n",
        "    X, y, test_size=0.2, stratify=y, random_state=42\n",
        ")"
      ],
      "metadata": {
        "id": "_adMRa-ZQEyJ"
      },
      "execution_count": null,
      "outputs": []
    },
    {
      "cell_type": "code",
      "source": [
        "# 선형회귀 모델 학습\n",
        "\n",
        "lr = LinearRegression()\n",
        "lr.fit(X_train, y_train)\n",
        "y_pred = lr.predict(X_test)"
      ],
      "metadata": {
        "id": "501vLkqHRRe5"
      },
      "execution_count": 22,
      "outputs": []
    },
    {
      "cell_type": "code",
      "source": [
        "# 모델 평가\n",
        "\n",
        "mse = mean_squared_error(y_test, y_pred)\n",
        "r2 = r2_score(y_test, y_pred)\n",
        "\n",
        "print(f\"MSE: {mse:.3f}\")\n",
        "print(f\"R²: {r2:.3f}\")"
      ],
      "metadata": {
        "colab": {
          "base_uri": "https://localhost:8080/"
        },
        "id": "RIGVuvAARXrE",
        "outputId": "76dd96e0-f3bf-4488-df33-b530193ec595"
      },
      "execution_count": 23,
      "outputs": [
        {
          "output_type": "stream",
          "name": "stdout",
          "text": [
            "MSE: 0.068\n",
            "R²: 0.546\n"
          ]
        }
      ]
    },
    {
      "cell_type": "code",
      "source": [
        "# 결과 시각화\n",
        "\n",
        "import matplotlib.pyplot as plt\n",
        "\n",
        "# 1. 예측값 vs 실제값 산점도\n",
        "plt.figure(figsize=(8,6))\n",
        "plt.scatter(y_test, y_pred, alpha=0.5)\n",
        "plt.plot([y_test.min(), y_test.max()],\n",
        "         [y_test.min(), y_test.max()],\n",
        "         'r--', lw=2)  # y=x 선\n",
        "plt.xlabel('Actual Rainfall')\n",
        "plt.ylabel('Predicted Rainfall')\n",
        "plt.title('Actual vs Predicted Rainfall')\n",
        "plt.show()"
      ],
      "metadata": {
        "colab": {
          "base_uri": "https://localhost:8080/",
          "height": 564
        },
        "id": "-IqLb0x_RkIv",
        "outputId": "b81ca3bb-7ba6-4410-fa1a-95202165c786"
      },
      "execution_count": 24,
      "outputs": [
        {
          "output_type": "display_data",
          "data": {
            "text/plain": [
              "<Figure size 800x600 with 1 Axes>"
            ],
            "image/png": "[encoded data removed]"
          },
          "metadata": {}
        }
      ]
    }
  ]
}