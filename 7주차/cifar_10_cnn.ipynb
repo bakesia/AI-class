{
  "nbformat": 4,
  "nbformat_minor": 0,
  "metadata": {
    "colab": {
      "provenance": [],
      "gpuType": "T4",
      "mount_file_id": "1Hz3FL8CV2ZE7b9vNyUGb7NYXWafHzzPy",
      "authorship_tag": "ABX9TyMjlKNLF1jf3CwscIHu4gbK"
    },
    "kernelspec": {
      "name": "python3",
      "display_name": "Python 3"
    },
    "language_info": {
      "name": "python"
    },
    "accelerator": "GPU"
  },
  "cells": [
    {
      "cell_type": "code",
      "execution_count": 13,
      "metadata": {
        "id": "K1Qpu9iJgcVO"
      },
      "outputs": [],
      "source": [
        "import tensorflow as tf\n",
        "from tensorflow.keras import layers, models\n",
        "import matplotlib.pyplot as plt\n",
        "import numpy as np\n",
        "import os"
      ]
    },
    {
      "cell_type": "code",
      "source": [
        "# ========================================\n",
        "# 경로 설정 (여기를 수정하세요)\n",
        "# ========================================\n",
        "DATA_DIR = '/content/drive/MyDrive/Colab Notebooks/기계학습프로그래밍/7주/cifar10_data'  # CIFAR-10 데이터를 저장할 경로\n",
        "\n",
        "# 데이터 디렉토리 생성\n",
        "os.makedirs(DATA_DIR, exist_ok=True)\n",
        "\n",
        "# --- CIFAR-10 로드 (자동으로 캐싱) ---\n",
        "# Keras는 기본적으로 ~/.keras/datasets에 저장하지만,\n",
        "# 명시적으로 경로를 지정하려면 아래와 같이 처리\n",
        "cifar10_path = os.path.join(DATA_DIR,'cifar-10-batches-py')\n",
        "\n",
        "if os.path.exists(cifar10_path):\n",
        "    print(f\"✓ 기존 데이터 발견: {cifar10_path}\")\n",
        "    print(\"저장된 데이터를 로드합니다...\")\n",
        "else:\n",
        "    print(f\"데이터가 없습니다. {DATA_DIR}에 다운로드합니다...\")\n",
        "\n",
        "# 데이터 로드 (없으면 자동 다운로드 후 캐싱)\n",
        "(x_train, y_train),(x_test, y_test) = tf.keras.datasets.cifar10.load_data()\n",
        "\n",
        "print(f\"✓ 데이터 로드 완료\")\n",
        "print(f\"  - 학습 데이터: {x_train.shape}\")\n",
        "print(f\"  - 테스트 데이터: {x_test.shape}\\n\")\n",
        "\n"
      ],
      "metadata": {
        "colab": {
          "base_uri": "https://localhost:8080/"
        },
        "id": "-9-cPAqRhBR-",
        "outputId": "ac31284c-18c3-4b33-a915-ad7a69a83ba7"
      },
      "execution_count": 2,
      "outputs": [
        {
          "output_type": "stream",
          "name": "stdout",
          "text": [
            "데이터가 없습니다. /content/drive/MyDrive/Colab Notebooks/기계학습프로그래밍/7주/cifar10_data에 다운로드합니다...\n",
            "Downloading data from https://www.cs.toronto.edu/~kriz/cifar-10-python.tar.gz\n",
            "\u001b[1m170498071/170498071\u001b[0m \u001b[32m━━━━━━━━━━━━━━━━━━━━\u001b[0m\u001b[37m\u001b[0m \u001b[1m4s\u001b[0m 0us/step\n",
            "✓ 데이터 로드 완료\n",
            "  - 학습 데이터: (50000, 32, 32, 3)\n",
            "  - 테스트 데이터: (10000, 32, 32, 3)\n",
            "\n"
          ]
        }
      ]
    },
    {
      "cell_type": "code",
      "source": [
        "# 클래스 이름 정의\n",
        "class_names = ['airplane','automobile','bird','cat','deer',\n",
        "               'dog','frog','horse','ship','truck']\n",
        "\n",
        "# 사용할 클래스 선택\n",
        "selected_classes = ['cat','dog','horse']\n",
        "selected_idx = [class_names.index(c)for c in selected_classes]\n",
        "\n",
        "# --- 해당 클래스만 필터링 ---\n",
        "train_mask = np.isin(y_train, selected_idx).flatten()\n",
        "test_mask = np.isin(y_test, selected_idx).flatten()\n",
        "\n",
        "x_train, y_train = x_train[train_mask], y_train[train_mask]\n",
        "x_test, y_test = x_test[test_mask], y_test[test_mask]\n",
        "\n",
        "print(f\"선택된 클래스: {selected_classes}\")\n",
        "print(f\"  - 학습 샘플 수: {len(x_train)}\")\n",
        "print(f\"  - 테스트 샘플 수: {len(x_test)}\\n\")\n",
        "\n",
        "# 라벨 0~2로 매핑\n",
        "label_map = {v: i for i, v in enumerate(selected_idx)}\n",
        "y_train = np.array([label_map[int(y)] for y in y_train])\n",
        "y_test  = np.array([label_map[int(y)] for y in y_test])\n",
        "\n",
        "# 정규화\n",
        "x_train, x_test = x_train / 255.0, x_test / 255.0"
      ],
      "metadata": {
        "colab": {
          "base_uri": "https://localhost:8080/"
        },
        "id": "7GLQYKGvhLmp",
        "outputId": "4e3b4717-43fb-4e02-edc3-8ca52ad3d3c8"
      },
      "execution_count": 3,
      "outputs": [
        {
          "output_type": "stream",
          "name": "stdout",
          "text": [
            "선택된 클래스: ['cat', 'dog', 'horse']\n",
            "  - 학습 샘플 수: 15000\n",
            "  - 테스트 샘플 수: 3000\n",
            "\n"
          ]
        },
        {
          "output_type": "stream",
          "name": "stderr",
          "text": [
            "/tmp/ipython-input-452830120.py:22: DeprecationWarning: Conversion of an array with ndim > 0 to a scalar is deprecated, and will error in future. Ensure you extract a single element from your array before performing this operation. (Deprecated NumPy 1.25.)\n",
            "  y_train = np.array([label_map[int(y)] for y in y_train])\n",
            "/tmp/ipython-input-452830120.py:23: DeprecationWarning: Conversion of an array with ndim > 0 to a scalar is deprecated, and will error in future. Ensure you extract a single element from your array before performing this operation. (Deprecated NumPy 1.25.)\n",
            "  y_test  = np.array([label_map[int(y)] for y in y_test])\n"
          ]
        }
      ]
    },
    {
      "cell_type": "code",
      "source": [
        "# CNN 모델 구성\n",
        "model = models.Sequential([\n",
        "    layers.Conv2D(32, (3, 3), activation='relu', input_shape=(32, 32, 3)),\n",
        "    layers.MaxPooling2D((2, 2)),\n",
        "    layers.Conv2D(64, (3, 3), activation='relu'),\n",
        "    layers.MaxPooling2D((2, 2)),\n",
        "    layers.Conv2D(128, (3, 3), activation='relu'),\n",
        "    layers.Flatten(),\n",
        "    layers.Dropout(0.4),\n",
        "    layers.Dense(128, activation='relu'),\n",
        "    layers.Dense(3, activation='softmax')\n",
        "])"
      ],
      "metadata": {
        "id": "EADWOTdsiGNq"
      },
      "execution_count": 8,
      "outputs": []
    },
    {
      "cell_type": "code",
      "source": [
        "# 컴파일\n",
        "model.compile(optimizer='adam',\n",
        "              loss='sparse_categorical_crossentropy',\n",
        "              metrics=['accuracy'])"
      ],
      "metadata": {
        "id": "PqKmSMS0i567"
      },
      "execution_count": 9,
      "outputs": []
    },
    {
      "cell_type": "code",
      "source": [
        "# 학습\n",
        "history = model.fit(\n",
        "    x_train, y_train,\n",
        "    epochs=10,\n",
        "    batch_size=128,\n",
        "    validation_split=0.1,\n",
        "    verbose=2\n",
        ")"
      ],
      "metadata": {
        "colab": {
          "base_uri": "https://localhost:8080/"
        },
        "id": "MRzBNoM0i7xl",
        "outputId": "be52f3f8-f407-44be-828a-39ff2bfeed84"
      },
      "execution_count": 10,
      "outputs": [
        {
          "output_type": "stream",
          "name": "stdout",
          "text": [
            "Epoch 1/10\n",
            "106/106 - 8s - 73ms/step - accuracy: 0.4975 - loss: 0.9583 - val_accuracy: 0.5807 - val_loss: 0.8691\n",
            "Epoch 2/10\n",
            "106/106 - 1s - 7ms/step - accuracy: 0.6124 - loss: 0.8129 - val_accuracy: 0.6193 - val_loss: 0.7929\n",
            "Epoch 3/10\n",
            "106/106 - 1s - 6ms/step - accuracy: 0.6614 - loss: 0.7338 - val_accuracy: 0.6587 - val_loss: 0.7459\n",
            "Epoch 4/10\n",
            "106/106 - 1s - 6ms/step - accuracy: 0.6887 - loss: 0.6880 - val_accuracy: 0.6847 - val_loss: 0.7111\n",
            "Epoch 5/10\n",
            "106/106 - 1s - 6ms/step - accuracy: 0.7137 - loss: 0.6344 - val_accuracy: 0.7307 - val_loss: 0.6371\n",
            "Epoch 6/10\n",
            "106/106 - 1s - 6ms/step - accuracy: 0.7338 - loss: 0.6049 - val_accuracy: 0.7293 - val_loss: 0.6196\n",
            "Epoch 7/10\n",
            "106/106 - 1s - 6ms/step - accuracy: 0.7500 - loss: 0.5723 - val_accuracy: 0.7220 - val_loss: 0.6219\n",
            "Epoch 8/10\n",
            "106/106 - 1s - 6ms/step - accuracy: 0.7683 - loss: 0.5401 - val_accuracy: 0.7407 - val_loss: 0.6065\n",
            "Epoch 9/10\n",
            "106/106 - 1s - 6ms/step - accuracy: 0.7793 - loss: 0.5149 - val_accuracy: 0.7533 - val_loss: 0.5787\n",
            "Epoch 10/10\n",
            "106/106 - 1s - 6ms/step - accuracy: 0.7982 - loss: 0.4810 - val_accuracy: 0.7567 - val_loss: 0.5736\n"
          ]
        }
      ]
    },
    {
      "cell_type": "code",
      "source": [
        "# 평가\n",
        "test_loss, test_acc = model.evaluate(x_test, y_test, verbose=2)\n",
        "print(f\"\\nCNN Test Accuracy: {test_acc:.4f}\")"
      ],
      "metadata": {
        "colab": {
          "base_uri": "https://localhost:8080/"
        },
        "id": "p4hZJzEwi_LD",
        "outputId": "10b3303a-7b76-497c-f659-2c06b9001bf4"
      },
      "execution_count": 11,
      "outputs": [
        {
          "output_type": "stream",
          "name": "stdout",
          "text": [
            "94/94 - 1s - 15ms/step - accuracy: 0.7600 - loss: 0.5788\n",
            "\n",
            "CNN Test Accuracy: 0.7600\n"
          ]
        }
      ]
    },
    {
      "cell_type": "code",
      "source": [
        "# 클래스 이름\n",
        "selected_classes = ['cat','dog','horse']\n",
        "\n",
        "# 테스트용 이미지 하나 선택\n",
        "idx = np.random.randint(0, len(x_test))\n",
        "img = x_test[idx]\n",
        "true_label = y_test[idx]\n",
        "\n",
        "# 이미지 시각화\n",
        "plt.imshow(img)\n",
        "plt.title(f\"True: {selected_classes[true_label]}\")\n",
        "plt.axis('off')\n",
        "plt.show()\n",
        "\n",
        "# 예측\n",
        "pred_prob = model.predict(img[np.newaxis, ...])  # 배치 차원 추가\n",
        "pred_class = np.argmax(pred_prob)\n",
        "print(f\"Predicted: {selected_classes[pred_class]}\")\n"
      ],
      "metadata": {
        "colab": {
          "base_uri": "https://localhost:8080/",
          "height": 465
        },
        "id": "tOkpVsrhkCHn",
        "outputId": "a5919bef-4d50-4d0b-d6c4-38371ac1748a"
      },
      "execution_count": 18,
      "outputs": [
        {
          "output_type": "display_data",
          "data": {
            "text/plain": [
              "<Figure size 640x480 with 1 Axes>"
            ],
            "image/png": "[encoded data removed]"
          },
          "metadata": {}
        },
        {
          "output_type": "stream",
          "name": "stdout",
          "text": [
            "\u001b[1m1/1\u001b[0m \u001b[32m━━━━━━━━━━━━━━━━━━━━\u001b[0m\u001b[37m\u001b[0m \u001b[1m0s\u001b[0m 37ms/step\n",
            "Predicted: dog\n"
          ]
        }
      ]
    }
  ]
}