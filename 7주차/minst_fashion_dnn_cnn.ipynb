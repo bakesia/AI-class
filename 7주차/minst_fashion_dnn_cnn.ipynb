{
  "nbformat": 4,
  "nbformat_minor": 0,
  "metadata": {
    "colab": {
      "provenance": [],
      "gpuType": "T4",
      "authorship_tag": "ABX9TyOwJsdwa1UXy8gKDuMv3BVM"
    },
    "kernelspec": {
      "name": "python3",
      "display_name": "Python 3"
    },
    "language_info": {
      "name": "python"
    },
    "accelerator": "GPU"
  },
  "cells": [
    {
      "cell_type": "code",
      "execution_count": 1,
      "metadata": {
        "id": "ynexX55dUSY3"
      },
      "outputs": [],
      "source": [
        "# 2차원 이미지 학습에선 런타임 변경 > t4 gpu로\n",
        "import tensorflow as tf\n",
        "from tensorflow.keras import layers, models"
      ]
    },
    {
      "cell_type": "code",
      "source": [
        "# DNN 과정\n",
        "# 데이터 로드\n",
        "fashion_mnist = tf.keras.datasets.fashion_mnist\n",
        "(x_train, y_train), (x_test, y_test) = fashion_mnist.load_data()\n",
        "\n",
        "# 정규화 (0~1)\n",
        "x_train = x_train / 255.0\n",
        "x_test = x_test / 255.0"
      ],
      "metadata": {
        "colab": {
          "base_uri": "https://localhost:8080/"
        },
        "id": "6Z55roI0UfGy",
        "outputId": "57c2ef93-254a-4939-bb13-914f9e3e3f38"
      },
      "execution_count": 2,
      "outputs": [
        {
          "output_type": "stream",
          "name": "stdout",
          "text": [
            "Downloading data from https://storage.googleapis.com/tensorflow/tf-keras-datasets/train-labels-idx1-ubyte.gz\n",
            "\u001b[1m29515/29515\u001b[0m \u001b[32m━━━━━━━━━━━━━━━━━━━━\u001b[0m\u001b[37m\u001b[0m \u001b[1m0s\u001b[0m 0us/step\n",
            "Downloading data from https://storage.googleapis.com/tensorflow/tf-keras-datasets/train-images-idx3-ubyte.gz\n",
            "\u001b[1m26421880/26421880\u001b[0m \u001b[32m━━━━━━━━━━━━━━━━━━━━\u001b[0m\u001b[37m\u001b[0m \u001b[1m0s\u001b[0m 0us/step\n",
            "Downloading data from https://storage.googleapis.com/tensorflow/tf-keras-datasets/t10k-labels-idx1-ubyte.gz\n",
            "\u001b[1m5148/5148\u001b[0m \u001b[32m━━━━━━━━━━━━━━━━━━━━\u001b[0m\u001b[37m\u001b[0m \u001b[1m0s\u001b[0m 0us/step\n",
            "Downloading data from https://storage.googleapis.com/tensorflow/tf-keras-datasets/t10k-images-idx3-ubyte.gz\n",
            "\u001b[1m4422102/4422102\u001b[0m \u001b[32m━━━━━━━━━━━━━━━━━━━━\u001b[0m\u001b[37m\u001b[0m \u001b[1m0s\u001b[0m 0us/step\n"
          ]
        }
      ]
    },
    {
      "cell_type": "code",
      "source": [
        "# DNN 모델 구성\n",
        "model_dnn = models.Sequential([\n",
        "    layers.Flatten(input_shape=(28, 28)),\n",
        "    layers.Dense(256, activation='relu'),\n",
        "    layers.Dropout(0.3),\n",
        "    layers.Dense(128, activation='relu'),\n",
        "    layers.Dropout(0.3),\n",
        "    layers.Dense(10, activation='softmax')\n",
        "])"
      ],
      "metadata": {
        "colab": {
          "base_uri": "https://localhost:8080/"
        },
        "id": "BiYm73mjUhsj",
        "outputId": "f6ff3b89-4279-45ec-9b2e-a9c3025879d7"
      },
      "execution_count": 3,
      "outputs": [
        {
          "output_type": "stream",
          "name": "stderr",
          "text": [
            "/usr/local/lib/python3.12/dist-packages/keras/src/layers/reshaping/flatten.py:37: UserWarning: Do not pass an `input_shape`/`input_dim` argument to a layer. When using Sequential models, prefer using an `Input(shape)` object as the first layer in the model instead.\n",
            "  super().__init__(**kwargs)\n"
          ]
        }
      ]
    },
    {
      "cell_type": "code",
      "source": [
        "# 컴파일\n",
        "model_dnn.compile(optimizer='adam',\n",
        "                  loss='sparse_categorical_crossentropy',\n",
        "                  metrics=['accuracy'])"
      ],
      "metadata": {
        "id": "oJ78FsvOUj_A"
      },
      "execution_count": 4,
      "outputs": []
    },
    {
      "cell_type": "code",
      "source": [
        "# 학습\n",
        "history_dnn = model_dnn.fit(x_train, y_train, epochs=10,\n",
        "                            validation_split=0.1, batch_size=128, verbose=2)"
      ],
      "metadata": {
        "colab": {
          "base_uri": "https://localhost:8080/"
        },
        "id": "l_yy-hkQUm2i",
        "outputId": "640c9b8e-9cb2-492a-d115-bbd1bc26b6ce"
      },
      "execution_count": 5,
      "outputs": [
        {
          "output_type": "stream",
          "name": "stdout",
          "text": [
            "Epoch 1/10\n",
            "422/422 - 7s - 17ms/step - accuracy: 0.7787 - loss: 0.6270 - val_accuracy: 0.8503 - val_loss: 0.4105\n",
            "Epoch 2/10\n",
            "422/422 - 1s - 2ms/step - accuracy: 0.8428 - loss: 0.4393 - val_accuracy: 0.8642 - val_loss: 0.3726\n",
            "Epoch 3/10\n",
            "422/422 - 1s - 2ms/step - accuracy: 0.8549 - loss: 0.4014 - val_accuracy: 0.8680 - val_loss: 0.3574\n",
            "Epoch 4/10\n",
            "422/422 - 1s - 3ms/step - accuracy: 0.8643 - loss: 0.3734 - val_accuracy: 0.8710 - val_loss: 0.3451\n",
            "Epoch 5/10\n",
            "422/422 - 1s - 2ms/step - accuracy: 0.8690 - loss: 0.3535 - val_accuracy: 0.8765 - val_loss: 0.3388\n",
            "Epoch 6/10\n",
            "422/422 - 1s - 2ms/step - accuracy: 0.8750 - loss: 0.3422 - val_accuracy: 0.8790 - val_loss: 0.3244\n",
            "Epoch 7/10\n",
            "422/422 - 1s - 2ms/step - accuracy: 0.8786 - loss: 0.3305 - val_accuracy: 0.8807 - val_loss: 0.3290\n",
            "Epoch 8/10\n",
            "422/422 - 1s - 2ms/step - accuracy: 0.8808 - loss: 0.3240 - val_accuracy: 0.8780 - val_loss: 0.3206\n",
            "Epoch 9/10\n",
            "422/422 - 1s - 2ms/step - accuracy: 0.8818 - loss: 0.3140 - val_accuracy: 0.8817 - val_loss: 0.3124\n",
            "Epoch 10/10\n",
            "422/422 - 1s - 2ms/step - accuracy: 0.8864 - loss: 0.3044 - val_accuracy: 0.8835 - val_loss: 0.3252\n"
          ]
        }
      ]
    },
    {
      "cell_type": "code",
      "source": [
        "# 평가\n",
        "test_loss, test_acc = model_dnn.evaluate(x_test, y_test, verbose=2)\n",
        "print(f\"DNN Test Accuracy: {test_acc:.4f}\")"
      ],
      "metadata": {
        "colab": {
          "base_uri": "https://localhost:8080/"
        },
        "id": "Y1g6-YpXUpKo",
        "outputId": "00058755-f6dd-42a3-e4ee-47550a94f73b"
      },
      "execution_count": 6,
      "outputs": [
        {
          "output_type": "stream",
          "name": "stdout",
          "text": [
            "313/313 - 2s - 5ms/step - accuracy: 0.8751 - loss: 0.3419\n",
            "DNN Test Accuracy: 0.8751\n"
          ]
        }
      ]
    },
    {
      "cell_type": "code",
      "source": [
        "import tensorflow as tf\n",
        "import numpy as np\n",
        "from tensorflow.keras import layers, models"
      ],
      "metadata": {
        "id": "ksK_qmPgVJCp"
      },
      "execution_count": 8,
      "outputs": []
    },
    {
      "cell_type": "code",
      "source": [
        "# CNN 과정\n",
        "# 데이터 로드\n",
        "fashion_mnist = tf.keras.datasets.fashion_mnist\n",
        "(x_train, y_train), (x_test, y_test) = fashion_mnist.load_data()\n",
        "\n",
        "# 정규화\n",
        "x_train = x_train / 255.0\n",
        "x_test = x_test / 255.0"
      ],
      "metadata": {
        "id": "aGSGzdHBVL-P"
      },
      "execution_count": 9,
      "outputs": []
    },
    {
      "cell_type": "code",
      "source": [
        "# 채널 차원 추가 (np.expand_dims 이용)\n",
        "# cnn은 3차원의 입력이 필요하기에 얘는 (가로, 세로, 흑백(채널 수)) 라는걸 주기 위해 차원 추가\n",
        "x_train = np.expand_dims(x_train, -1)\n",
        "x_test = np.expand_dims(x_test, -1)\n",
        "\n",
        "print(\"x_train shape:\", x_train.shape)  # (60000, 28, 28, 1)\n",
        "print(\"x_test shape:\", x_test.shape)    # (10000, 28, 28, 1)"
      ],
      "metadata": {
        "colab": {
          "base_uri": "https://localhost:8080/"
        },
        "id": "6Y8oURoGVRwg",
        "outputId": "93029210-f64c-4b21-d66e-b1825f2862b0"
      },
      "execution_count": 11,
      "outputs": [
        {
          "output_type": "stream",
          "name": "stdout",
          "text": [
            "x_train shape: (60000, 28, 28, 1, 1)\n",
            "x_test shape: (10000, 28, 28, 1, 1)\n"
          ]
        }
      ]
    },
    {
      "cell_type": "code",
      "source": [
        "# CNN 모델 구성\n",
        "model = models.Sequential([\n",
        "    layers.Conv2D(32, (3, 3), activation='relu', input_shape=(28, 28, 1)),\n",
        "    layers.MaxPooling2D((2, 2)),\n",
        "    layers.Conv2D(64, (3, 3), activation='relu'),\n",
        "    layers.MaxPooling2D((2, 2)),\n",
        "    layers.Conv2D(128, (3, 3), activation='relu'),\n",
        "    layers.Flatten(),\n",
        "    layers.Dropout(0.4),\n",
        "    layers.Dense(128, activation='relu'),\n",
        "    layers.Dense(10, activation='softmax')\n",
        "])"
      ],
      "metadata": {
        "colab": {
          "base_uri": "https://localhost:8080/"
        },
        "id": "fMSQwxoOVZv7",
        "outputId": "141ae439-7547-4c2d-89b3-02bf2cdd29d8"
      },
      "execution_count": 12,
      "outputs": [
        {
          "output_type": "stream",
          "name": "stderr",
          "text": [
            "/usr/local/lib/python3.12/dist-packages/keras/src/layers/convolutional/base_conv.py:113: UserWarning: Do not pass an `input_shape`/`input_dim` argument to a layer. When using Sequential models, prefer using an `Input(shape)` object as the first layer in the model instead.\n",
            "  super().__init__(activity_regularizer=activity_regularizer, **kwargs)\n"
          ]
        }
      ]
    },
    {
      "cell_type": "code",
      "source": [
        "# 컴파일\n",
        "model.compile(optimizer='adam',\n",
        "              loss='sparse_categorical_crossentropy',\n",
        "              metrics=['accuracy'])"
      ],
      "metadata": {
        "id": "q2BybQyJVe0p"
      },
      "execution_count": 13,
      "outputs": []
    },
    {
      "cell_type": "code",
      "source": [
        "# 학습\n",
        "history = model.fit(\n",
        "    x_train, y_train,\n",
        "    epochs=10,\n",
        "    batch_size=128,\n",
        "    validation_split=0.1,\n",
        "    verbose=2\n",
        ")"
      ],
      "metadata": {
        "colab": {
          "base_uri": "https://localhost:8080/"
        },
        "id": "Q-SbL4k3Vha4",
        "outputId": "ece664d5-4b34-48c6-edf8-48088ff4760c"
      },
      "execution_count": 14,
      "outputs": [
        {
          "output_type": "stream",
          "name": "stdout",
          "text": [
            "Epoch 1/10\n",
            "422/422 - 11s - 25ms/step - accuracy: 0.7649 - loss: 0.6268 - val_accuracy: 0.8358 - val_loss: 0.4243\n",
            "Epoch 2/10\n",
            "422/422 - 2s - 4ms/step - accuracy: 0.8533 - loss: 0.3964 - val_accuracy: 0.8753 - val_loss: 0.3296\n",
            "Epoch 3/10\n",
            "422/422 - 2s - 4ms/step - accuracy: 0.8745 - loss: 0.3386 - val_accuracy: 0.8913 - val_loss: 0.3050\n",
            "Epoch 4/10\n",
            "422/422 - 2s - 4ms/step - accuracy: 0.8880 - loss: 0.3040 - val_accuracy: 0.8973 - val_loss: 0.2793\n",
            "Epoch 5/10\n",
            "422/422 - 2s - 4ms/step - accuracy: 0.8949 - loss: 0.2806 - val_accuracy: 0.9008 - val_loss: 0.2700\n",
            "Epoch 6/10\n",
            "422/422 - 2s - 4ms/step - accuracy: 0.9023 - loss: 0.2619 - val_accuracy: 0.9040 - val_loss: 0.2597\n",
            "Epoch 7/10\n",
            "422/422 - 2s - 5ms/step - accuracy: 0.9093 - loss: 0.2451 - val_accuracy: 0.9097 - val_loss: 0.2495\n",
            "Epoch 8/10\n",
            "422/422 - 2s - 4ms/step - accuracy: 0.9146 - loss: 0.2309 - val_accuracy: 0.9100 - val_loss: 0.2434\n",
            "Epoch 9/10\n",
            "422/422 - 2s - 4ms/step - accuracy: 0.9194 - loss: 0.2186 - val_accuracy: 0.9133 - val_loss: 0.2302\n",
            "Epoch 10/10\n",
            "422/422 - 2s - 4ms/step - accuracy: 0.9235 - loss: 0.2064 - val_accuracy: 0.9168 - val_loss: 0.2367\n"
          ]
        }
      ]
    },
    {
      "cell_type": "code",
      "source": [
        "# 평가\n",
        "test_loss, test_acc = model.evaluate(x_test, y_test, verbose=2)\n",
        "print(f\"\\nCNN Test Accuracy: {test_acc:.4f}\")"
      ],
      "metadata": {
        "colab": {
          "base_uri": "https://localhost:8080/"
        },
        "id": "xoQKhMX8VkW0",
        "outputId": "5f777e1e-fe44-4df1-9373-670f5f1385ea"
      },
      "execution_count": 16,
      "outputs": [
        {
          "output_type": "stream",
          "name": "stdout",
          "text": [
            "313/313 - 1s - 2ms/step - accuracy: 0.9132 - loss: 0.2483\n",
            "\n",
            "CNN Test Accuracy: 0.9132\n"
          ]
        }
      ]
    },
    {
      "cell_type": "code",
      "source": [
        "# 예측 예시\n",
        "predictions = model.predict(x_test[:5])\n",
        "print(\"예측 결과:\", np.argmax(predictions, axis=1))\n",
        "print(\"실제 레이블:\", y_test[:5])"
      ],
      "metadata": {
        "colab": {
          "base_uri": "https://localhost:8080/"
        },
        "id": "I_nc6A-LVosp",
        "outputId": "cecdb17c-1781-426e-988a-ed5c2c6ad981"
      },
      "execution_count": 17,
      "outputs": [
        {
          "output_type": "stream",
          "name": "stdout",
          "text": [
            "\u001b[1m1/1\u001b[0m \u001b[32m━━━━━━━━━━━━━━━━━━━━\u001b[0m\u001b[37m\u001b[0m \u001b[1m1s\u001b[0m 528ms/step\n",
            "예측 결과: [9 2 1 1 6]\n",
            "실제 레이블: [9 2 1 1 6]\n"
          ]
        }
      ]
    },
    {
      "cell_type": "markdown",
      "source": [
        "**결과**\n",
        "\n",
        "---\n",
        "\n",
        "DNN Test Accuracy: 0.8751\n",
        "\n",
        "\n",
        "CNN Test Accuracy: 0.9132\n"
      ],
      "metadata": {
        "id": "MiUkHrKTV8S1"
      }
    }
  ]
}