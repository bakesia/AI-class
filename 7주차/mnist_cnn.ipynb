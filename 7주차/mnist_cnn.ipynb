{
  "nbformat": 4,
  "nbformat_minor": 0,
  "metadata": {
    "colab": {
      "provenance": [],
      "gpuType": "T4",
      "authorship_tag": "ABX9TyOdZlyf7CPZ/Y2bNYIJYHPg"
    },
    "kernelspec": {
      "name": "python3",
      "display_name": "Python 3"
    },
    "language_info": {
      "name": "python"
    },
    "accelerator": "GPU"
  },
  "cells": [
    {
      "cell_type": "code",
      "execution_count": null,
      "metadata": {
        "id": "NXu2FtPCEtEy"
      },
      "outputs": [],
      "source": [
        "import tensorflow as tf\n",
        "from tensorflow import keras\n",
        "from tensorflow.keras import layers\n",
        "from sklearn.metrics import classification_report, confusion_matrix\n",
        "import numpy as np"
      ]
    },
    {
      "cell_type": "code",
      "source": [
        "# 1. 데이터 준비\n",
        "(x_train, y_train), (x_test, y_test) = keras.datasets.mnist.load_data()\n",
        "x_train = x_train.astype(\"float32\") / 255.0\n",
        "x_test  = x_test.astype(\"float32\") / 255.0\n",
        "\n",
        "x_train = x_train[..., tf.newaxis]  # (60000, 28, 28, 1)\n",
        "x_test  = x_test[..., tf.newaxis]   # (10000, 28, 28, 1)\n",
        "\n",
        "# one-hot 인코딩\n",
        "Y_train = keras.utils.to_categorical(y_train, 10)\n",
        "Y_test  = keras.utils.to_categorical(y_test, 10)"
      ],
      "metadata": {
        "id": "w9z_oksXR-8f",
        "colab": {
          "base_uri": "https://localhost:8080/"
        },
        "outputId": "7de6d1fd-c2d8-41a0-e0f2-e1644289e982"
      },
      "execution_count": null,
      "outputs": [
        {
          "output_type": "stream",
          "name": "stdout",
          "text": [
            "Downloading data from https://storage.googleapis.com/tensorflow/tf-keras-datasets/mnist.npz\n",
            "\u001b[1m11490434/11490434\u001b[0m \u001b[32m━━━━━━━━━━━━━━━━━━━━\u001b[0m\u001b[37m\u001b[0m \u001b[1m0s\u001b[0m 0us/step\n"
          ]
        }
      ]
    },
    {
      "cell_type": "code",
      "source": [
        "# 2. 모델 구성 (간단 CNN, 빠른 학습용)\n",
        "model = keras.Sequential([\n",
        "    layers.Input(shape=(28,28,1)),\n",
        "\n",
        "    layers.Conv2D(32, (3,3), activation='relu', padding='same'),\n",
        "    layers.MaxPooling2D((2,2)),\n",
        "\n",
        "    layers.Flatten(),\n",
        "    layers.Dense(64, activation='relu'),\n",
        "    layers.Dense(10, activation='softmax')\n",
        "])"
      ],
      "metadata": {
        "id": "nG_2sBGGSF23"
      },
      "execution_count": null,
      "outputs": []
    },
    {
      "cell_type": "code",
      "source": [
        "# 3. 모델 컴파일\n",
        "model.compile(\n",
        "    optimizer='adam',\n",
        "    loss='categorical_crossentropy',\n",
        "    metrics=['accuracy']\n",
        ")"
      ],
      "metadata": {
        "id": "M8rN37GVSQij"
      },
      "execution_count": null,
      "outputs": []
    },
    {
      "cell_type": "code",
      "source": [
        "# 4. 학습 (빠르게)\n",
        "history = model.fit(\n",
        "    x_train, Y_train,\n",
        "    validation_split=0.2,\n",
        "    epochs=5,      # 에포크 줄여서 학습 시간 단축\n",
        "    batch_size=128,\n",
        "    verbose=1\n",
        ")"
      ],
      "metadata": {
        "id": "yOnJtPFCTxor",
        "colab": {
          "base_uri": "https://localhost:8080/"
        },
        "outputId": "2d0747d9-fda3-47d1-9c29-d34e351d80d7"
      },
      "execution_count": null,
      "outputs": [
        {
          "output_type": "stream",
          "name": "stdout",
          "text": [
            "Epoch 1/5\n",
            "\u001b[1m375/375\u001b[0m \u001b[32m━━━━━━━━━━━━━━━━━━━━\u001b[0m\u001b[37m\u001b[0m \u001b[1m28s\u001b[0m 70ms/step - accuracy: 0.8520 - loss: 0.5490 - val_accuracy: 0.9711 - val_loss: 0.1032\n",
            "Epoch 2/5\n",
            "\u001b[1m375/375\u001b[0m \u001b[32m━━━━━━━━━━━━━━━━━━━━\u001b[0m\u001b[37m\u001b[0m \u001b[1m44s\u001b[0m 79ms/step - accuracy: 0.9731 - loss: 0.0918 - val_accuracy: 0.9806 - val_loss: 0.0679\n",
            "Epoch 3/5\n",
            "\u001b[1m375/375\u001b[0m \u001b[32m━━━━━━━━━━━━━━━━━━━━\u001b[0m\u001b[37m\u001b[0m \u001b[1m26s\u001b[0m 68ms/step - accuracy: 0.9819 - loss: 0.0598 - val_accuracy: 0.9812 - val_loss: 0.0626\n",
            "Epoch 4/5\n",
            "\u001b[1m375/375\u001b[0m \u001b[32m━━━━━━━━━━━━━━━━━━━━\u001b[0m\u001b[37m\u001b[0m \u001b[1m26s\u001b[0m 68ms/step - accuracy: 0.9877 - loss: 0.0419 - val_accuracy: 0.9793 - val_loss: 0.0661\n",
            "Epoch 5/5\n",
            "\u001b[1m375/375\u001b[0m \u001b[32m━━━━━━━━━━━━━━━━━━━━\u001b[0m\u001b[37m\u001b[0m \u001b[1m40s\u001b[0m 66ms/step - accuracy: 0.9902 - loss: 0.0336 - val_accuracy: 0.9812 - val_loss: 0.0632\n"
          ]
        }
      ]
    },
    {
      "cell_type": "code",
      "source": [
        "# 5. 예측 및 평가\n",
        "y_pred = model.predict(x_test)\n",
        "y_test_class = np.argmax(Y_test, axis=1)\n",
        "y_pred_class = np.argmax(y_pred, axis=1)\n",
        "\n",
        "print(classification_report(y_test_class, y_pred_class))\n",
        "print(confusion_matrix(y_test_class, y_pred_class))"
      ],
      "metadata": {
        "id": "nTeI90boco4L",
        "colab": {
          "base_uri": "https://localhost:8080/"
        },
        "outputId": "8cff7c3c-9762-4969-e0a4-b9e2c77e3398"
      },
      "execution_count": null,
      "outputs": [
        {
          "output_type": "stream",
          "name": "stdout",
          "text": [
            "\u001b[1m313/313\u001b[0m \u001b[32m━━━━━━━━━━━━━━━━━━━━\u001b[0m\u001b[37m\u001b[0m \u001b[1m2s\u001b[0m 6ms/step\n",
            "              precision    recall  f1-score   support\n",
            "\n",
            "           0       0.98      0.99      0.99       980\n",
            "           1       0.99      1.00      0.99      1135\n",
            "           2       0.98      0.97      0.98      1032\n",
            "           3       0.97      0.99      0.98      1010\n",
            "           4       0.99      0.98      0.99       982\n",
            "           5       1.00      0.97      0.98       892\n",
            "           6       0.98      0.98      0.98       958\n",
            "           7       0.98      0.98      0.98      1028\n",
            "           8       0.97      0.98      0.98       974\n",
            "           9       0.98      0.98      0.98      1009\n",
            "\n",
            "    accuracy                           0.98     10000\n",
            "   macro avg       0.98      0.98      0.98     10000\n",
            "weighted avg       0.98      0.98      0.98     10000\n",
            "\n",
            "[[ 970    0    2    0    0    1    3    1    3    0]\n",
            " [   0 1130    1    2    0    0    2    0    0    0]\n",
            " [   2    3 1005    5    1    0    1    8    7    0]\n",
            " [   0    0    2 1004    0    0    0    0    3    1]\n",
            " [   1    0    1    0  966    0    2    2    1    9]\n",
            " [   2    0    1   13    0  864    6    1    3    2]\n",
            " [   6    2    1    0    1    1  943    0    4    0]\n",
            " [   1    1    7    3    0    0    0 1011    3    2]\n",
            " [   5    0    1    2    2    1    1    4  956    2]\n",
            " [   2    1    0    4    4    1    0    8    5  984]]\n"
          ]
        }
      ]
    }
  ]
}